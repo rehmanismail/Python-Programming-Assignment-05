{
 "cells": [
  {
   "cell_type": "markdown",
   "metadata": {},
   "source": [
    "# Python Programming Assignment 05"
   ]
  },
  {
   "cell_type": "markdown",
   "metadata": {},
   "source": [
    "**Instructions: Implement Python programs to accomplish the following task**<br>\n",
    "**Task : High Low**\n"
   ]
  },
  {
   "cell_type": "markdown",
   "metadata": {},
   "source": [
    "We want you to gain more experience working with control flow and Booleans in Python. To do this, we are going to have you develop a game! The game is called High-Low and the way it's played goes as follows:<br>\n",
    "\n",
    "1-Two numbers are generated from 1 to 100 (inclusive on both ends): one for you and one for a computer, who will be your opponent. You can see your number, but not the computer's!<br>\n",
    "2-You make a guess, saying your number is either higher than or lower than the computer's number<br>\n",
    "3-If your guess matches the truth (ex. you guess your number is higher, and then your number is actually higher than the computer's), you get a point!<br>\n",
    "4-These steps make up one round of the game. The game is over after all rounds have been played.<br>"
   ]
  },
  {
   "cell_type": "markdown",
   "metadata": {},
   "source": [
    "**We've provided a sample run below.**"
   ]
  },
  {
   "cell_type": "markdown",
   "metadata": {},
   "source": [
    "# Welcome to the High-Low Game!\n",
    "--------------------------------\n",
    "\n",
    "## Round 1\n",
    "**Your number is 8**  \n",
    "Do you think your number is higher or lower than the computer's?: **lower**  \n",
    "**You were right!** The computer's number was 35  \n",
    "**Your score is now 1**\n",
    "\n",
    "## Round 2\n",
    "**Your number is 88**  \n",
    "Do you think your number is higher or lower than the computer's?: **higher**  \n",
    "**Aww, that's incorrect.** The computer's number was 100  \n",
    "**Your score is now 1**\n",
    "\n",
    "## Round 3\n",
    "**Your number is 63**  \n",
    "Do you think your number is higher or lower than the computer's?: **higher**  \n",
    "**You were right!** The computer's number was 5  \n",
    "**Your score is now 2**\n",
    "\n",
    "## Round 4\n",
    "**Your number is 57**  \n",
    "Do you think your number is higher or lower than the computer's?: **lower**  \n",
    "**Aww, that's incorrect.** The computer's number was 57  \n",
    "**Your score is now 2**\n",
    "\n",
    "## Round 5\n",
    "**Your number is 22**  \n",
    "Do you think your number is higher or lower than the computer's?: **lower**  \n",
    "**Aww, that's incorrect.** The computer's number was 1  \n",
    "**Your score is now 2**\n",
    "\n",
    "---\n",
    "\n",
    "**Thanks for playing!**\n"
   ]
  },
  {
   "cell_type": "code",
   "execution_count": 15,
   "metadata": {},
   "outputs": [
    {
     "name": "stdout",
     "output_type": "stream",
     "text": [
      "Welcome to the High-Low Game!\n",
      "-----------------------------\n",
      "Round 1\n",
      "Your number is 63\n",
      "Aww, that's incorrect. The computer's number was 96\n",
      "Your score is still 0\n",
      "Round 2\n",
      "Your number is 27\n",
      "You were right! The computer's number was 75\n",
      "Your score is now 1\n",
      "Round 3\n",
      "Your number is 88\n",
      "You were right! The computer's number was 50\n",
      "Your score is now 2\n",
      "Round 4\n",
      "Your number is 40\n",
      "You were right! The computer's number was 89\n",
      "Your score is now 3\n",
      "Round 5\n",
      "Your number is 100\n",
      "You were right! The computer's number was 43\n",
      "Your score is now 4\n",
      "Round 6\n",
      "Your number is 18\n",
      "Aww, that's incorrect. The computer's number was 5\n",
      "Your score is still 4\n",
      "Thanks for Playing!\n"
     ]
    }
   ],
   "source": [
    "import random\n",
    "\n",
    "\n",
    "print(\"Welcome to the High-Low Game!\")\n",
    "print(\"-----------------------------\")\n",
    "\n",
    "def high_low_game():\n",
    "    user_score: int = 0\n",
    "    round: int = 0\n",
    "    while True:\n",
    "        round += 1\n",
    "        user_number = random.randint(1, 100)\n",
    "        computer_number = random.randint(1, 100)\n",
    "        print(f\"Round {round}\")\n",
    "        print(f\"Your number is {user_number}\")\n",
    "        user_guess = input(\"Do you think your number is higher or lower than the computer's?: \").lower()\n",
    "        if (user_guess == \"lower\" and user_number < computer_number) or (user_guess == \"higher\" and user_number > computer_number):\n",
    "            print(f\"You were right! The computer's number was {computer_number}\")\n",
    "            user_score += 1\n",
    "            print(f\"Your score is now {user_score}\")\n",
    "        else:\n",
    "            print(f\"Aww, that's incorrect. The computer's number was {computer_number}\")\n",
    "            print(f\"Your score is still {user_score}\")\n",
    "            play_again = input(\"Do you want to play again? (yes/no): \")\n",
    "            if play_again.lower() != \"yes\":\n",
    "                print(\"Thanks for Playing!\")\n",
    "                break\n",
    "\n",
    "high_low_game()"
   ]
  }
 ],
 "metadata": {
  "kernelspec": {
   "display_name": "base",
   "language": "python",
   "name": "python3"
  },
  "language_info": {
   "codemirror_mode": {
    "name": "ipython",
    "version": 3
   },
   "file_extension": ".py",
   "mimetype": "text/x-python",
   "name": "python",
   "nbconvert_exporter": "python",
   "pygments_lexer": "ipython3",
   "version": "3.11.5"
  }
 },
 "nbformat": 4,
 "nbformat_minor": 2
}
